{
 "cells": [
  {
   "cell_type": "markdown",
   "id": "0817ee94-3155-4882-a4f5-a6f7350e8344",
   "metadata": {},
   "source": [
    "1. Declare two variables, `x` and `y`, and assign them integer values. Swap the\n",
    "values of these variables without using any temporary variable."
   ]
  },
  {
   "cell_type": "code",
   "execution_count": 1,
   "id": "56b8f2ab-2478-46e1-b8f2-f3b354e3be55",
   "metadata": {},
   "outputs": [
    {
     "name": "stdout",
     "output_type": "stream",
     "text": [
      "after swapping :\n",
      "x: 35\n",
      "y: 46\n"
     ]
    }
   ],
   "source": [
    "x=46\n",
    "y=35\n",
    "x=x+y  #store the value of x as the sum of x and y\n",
    "y=x-y #store the value of y as the difference of x w.r.t. y so that y become x \n",
    "x=x-y # here we use the basic math as x+y-(x)= y\n",
    "print (\"after swapping :\")\n",
    "print (\"x:\",x)\n",
    "print (\"y:\",y)"
   ]
  },
  {
   "cell_type": "code",
   "execution_count": null,
   "id": "f1be9ecd-e750-4eff-a13d-8e43d443ff64",
   "metadata": {},
   "outputs": [],
   "source": []
  },
  {
   "cell_type": "markdown",
   "id": "1776efd2-4e68-4e80-b0c8-6da2b3270570",
   "metadata": {},
   "source": [
    "2. Create a program that calculates the area of a rectangle. Take the length and\n",
    "width as inputs from the user and store them in variables. Calculate and\n",
    "display the area."
   ]
  },
  {
   "cell_type": "code",
   "execution_count": 2,
   "id": "53a1d0a7-0367-4f57-bb21-716feba1259a",
   "metadata": {},
   "outputs": [
    {
     "name": "stdin",
     "output_type": "stream",
     "text": [
      "Length of rectangle: 24\n",
      "width of rectangle: 12\n"
     ]
    },
    {
     "name": "stdout",
     "output_type": "stream",
     "text": [
      "Area of rectangle: 288.0 unit sq.\n"
     ]
    }
   ],
   "source": [
    "l=float(input (\"Length of rectangle:\")) #put down the length of rec.\n",
    "w=float(input (\"width of rectangle:\")) #put down the width of rec.\n",
    "Area=l*w #using the formula of area of rectangle\n",
    "print (\"Area of rectangle:\",Area, \"unit sq.\")"
   ]
  },
  {
   "cell_type": "code",
   "execution_count": null,
   "id": "779406c3-fa15-4972-bbdc-93530438a5ac",
   "metadata": {},
   "outputs": [],
   "source": []
  },
  {
   "cell_type": "markdown",
   "id": "0ad26903-4f80-42c1-9741-314875acc84b",
   "metadata": {},
   "source": [
    "3. Write a Python program that converts temperatures from Celsius to\n",
    "Fahrenheit. Take the temperature in Celsius as input, store it in a variable,\n",
    "convert it to Fahrenheit, and display the result."
   ]
  },
  {
   "cell_type": "code",
   "execution_count": 3,
   "id": "30d3655e-d347-4b6c-aa14-13aee22c7ca5",
   "metadata": {},
   "outputs": [
    {
     "name": "stdin",
     "output_type": "stream",
     "text": [
      "Enter the value of Temerature in Celcius: 16\n"
     ]
    },
    {
     "name": "stdout",
     "output_type": "stream",
     "text": [
      "Temperature in Fahrenheit {60.8} °F\n"
     ]
    }
   ],
   "source": [
    "cel=float(input(\"Enter the value of Temerature in Celcius:\"))\n",
    "fahr={(cel*9/5)+32} # using the formula of degree C to degree F conversion\n",
    "print (\"Temperature in Fahrenheit\",fahr,\"°F\")"
   ]
  },
  {
   "cell_type": "code",
   "execution_count": null,
   "id": "7fcddbb3-5060-422d-9b20-b0e33ddc3551",
   "metadata": {},
   "outputs": [],
   "source": []
  },
  {
   "cell_type": "markdown",
   "id": "77fce836-6c51-4f3c-8584-e39b52e477c8",
   "metadata": {},
   "source": [
    "TOPIC: String Based Questions"
   ]
  },
  {
   "cell_type": "code",
   "execution_count": null,
   "id": "4181fe66-3cf9-4bc9-b41e-7bbb227a2116",
   "metadata": {},
   "outputs": [],
   "source": []
  },
  {
   "cell_type": "markdown",
   "id": "1dd9ce98-8ddf-49bb-b005-7d57baed8cf1",
   "metadata": {},
   "source": [
    "1. Write a Python program that takes a string as input and prints the length of\n",
    "the string."
   ]
  },
  {
   "cell_type": "code",
   "execution_count": 4,
   "id": "e4ae415a-ef5b-4a81-9fe5-b7d9475d2c44",
   "metadata": {},
   "outputs": [
    {
     "name": "stdin",
     "output_type": "stream",
     "text": [
      "enter the string: Aaquib\n"
     ]
    },
    {
     "name": "stdout",
     "output_type": "stream",
     "text": [
      "length of string 6\n"
     ]
    }
   ],
   "source": [
    "s1=input(\"enter the string:\")   #taking input\n",
    "print (\"length of string\",len(s1)) #counting the len.str()"
   ]
  },
  {
   "cell_type": "code",
   "execution_count": null,
   "id": "067e1d91-5a87-4782-bd01-88df094311e9",
   "metadata": {},
   "outputs": [],
   "source": []
  },
  {
   "cell_type": "markdown",
   "id": "453f2dce-ce75-4603-b9e5-ee4bc1932a23",
   "metadata": {},
   "source": [
    "2. Create a program that takes a sentence from the user and counts the number\n",
    "of vowels (a, e, i, o, u) in the string."
   ]
  },
  {
   "cell_type": "code",
   "execution_count": 5,
   "id": "cf434f58-4e3f-4d43-9157-59385a372f26",
   "metadata": {},
   "outputs": [
    {
     "name": "stdin",
     "output_type": "stream",
     "text": [
      "Enter a sentence : floor\n"
     ]
    },
    {
     "name": "stdout",
     "output_type": "stream",
     "text": [
      "2\n"
     ]
    }
   ],
   "source": [
    "sentence = input(\"Enter a sentence :\")\n",
    "counts=0\n",
    "for i in sentence:    # use the conscept of loop for multiple check clycle for individual vowels\n",
    "    if i in 'aAeEiIoOuU':  # all vowels in lowwer as well as in upper case\n",
    "        counts+=1\n",
    "        \n",
    "print(counts)"
   ]
  },
  {
   "cell_type": "code",
   "execution_count": null,
   "id": "50e581f5-f5ac-4064-8d40-0ee6fdd92c01",
   "metadata": {},
   "outputs": [],
   "source": []
  },
  {
   "cell_type": "markdown",
   "id": "fc19fa0c-38f8-4345-aa15-407ccba04c05",
   "metadata": {},
   "source": [
    "3. Given a string, reverse the order of characters using string slicing and print\n",
    "the reversed string."
   ]
  },
  {
   "cell_type": "code",
   "execution_count": 6,
   "id": "37e4a279-a64a-4205-95fb-2b3f1a5a92af",
   "metadata": {},
   "outputs": [
    {
     "name": "stdin",
     "output_type": "stream",
     "text": [
      " Deepak\n"
     ]
    },
    {
     "name": "stdout",
     "output_type": "stream",
     "text": [
      "reverse of string is = kapeeD\n"
     ]
    }
   ],
   "source": [
    "string = input()\n",
    "print(f\"reverse of string is = {string[::-1]}\")"
   ]
  },
  {
   "cell_type": "code",
   "execution_count": null,
   "id": "23f94820-38e9-4311-8664-25f26268dd84",
   "metadata": {},
   "outputs": [],
   "source": []
  },
  {
   "cell_type": "markdown",
   "id": "10ef00ed-45dd-477f-b379-a8007b57a3c7",
   "metadata": {},
   "source": [
    "4. Write a program that takes a string as input and checks if it is a palindrome\n",
    "(reads the same forwards and backwards)."
   ]
  },
  {
   "cell_type": "code",
   "execution_count": 7,
   "id": "eb99df99-db2a-4dd4-a0d3-f02b88e6140d",
   "metadata": {},
   "outputs": [
    {
     "name": "stdin",
     "output_type": "stream",
     "text": [
      " Naman\n"
     ]
    },
    {
     "name": "stdout",
     "output_type": "stream",
     "text": [
      "is not palindrome string\n"
     ]
    }
   ],
   "source": [
    "string = input()\n",
    "if string==string[::-1]:     #use conditioning statement as if (....) else(...)\n",
    "    print(\"is a palindrome string\") \n",
    "else:\n",
    "    print(\"is not palindrome string\")"
   ]
  },
  {
   "cell_type": "code",
   "execution_count": null,
   "id": "2769b350-3869-4d4a-89c8-b1fbb8347c4c",
   "metadata": {},
   "outputs": [],
   "source": []
  },
  {
   "cell_type": "markdown",
   "id": "521063bd-cd7c-4d01-ba7d-aaa6de5391ef",
   "metadata": {},
   "source": [
    "5. Create a program that takes a string as input and removes all the spaces from\n",
    "it. Print the modified string without spaces."
   ]
  },
  {
   "cell_type": "code",
   "execution_count": 8,
   "id": "ecdf46e5-5537-4f85-9f20-4891f0f397f4",
   "metadata": {},
   "outputs": [
    {
     "name": "stdin",
     "output_type": "stream",
     "text": [
      "Enter any string:- Hello Yusuf\n"
     ]
    },
    {
     "name": "stdout",
     "output_type": "stream",
     "text": [
      "modified string:-  HelloYusuf\n"
     ]
    }
   ],
   "source": [
    "def space_remover(sentence):      # creating the function called space_remover\n",
    "    remove_space=sentence.replace(' ','')  # removing space from the sentence\n",
    "    return remove_space\n",
    "\n",
    "user_input=input(\"Enter any string:-\")   # taking input\n",
    "result=space_remover(user_input)         \n",
    "print(\"modified string:- \",result)       # output string"
   ]
  },
  {
   "cell_type": "code",
   "execution_count": null,
   "id": "a03c31ee-14f4-4cc3-b6e4-39db3d769cde",
   "metadata": {},
   "outputs": [],
   "source": []
  }
 ],
 "metadata": {
  "kernelspec": {
   "display_name": "Python 3 (ipykernel)",
   "language": "python",
   "name": "python3"
  },
  "language_info": {
   "codemirror_mode": {
    "name": "ipython",
    "version": 3
   },
   "file_extension": ".py",
   "mimetype": "text/x-python",
   "name": "python",
   "nbconvert_exporter": "python",
   "pygments_lexer": "ipython3",
   "version": "3.10.8"
  }
 },
 "nbformat": 4,
 "nbformat_minor": 5
}
