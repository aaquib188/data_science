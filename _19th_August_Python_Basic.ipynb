{
 "cells": [
  {
   "cell_type": "markdown",
   "id": "862a03c4-2cd1-44ca-9d5f-4238d2fa2cca",
   "metadata": {},
   "source": [
    "1. Declare two variables, `x` and `y`, and assign them integer values. Swap the\n",
    "values of these variables without using any temporary variable."
   ]
  },
  {
   "cell_type": "code",
   "execution_count": 1,
   "id": "2f59e5ad-2155-4669-bfe9-c68c291a1d60",
   "metadata": {},
   "outputs": [
    {
     "name": "stdout",
     "output_type": "stream",
     "text": [
      "after swapping :\n",
      "x: 35\n",
      "y: 46\n"
     ]
    }
   ],
   "source": [
    "x=46\n",
    "y=35\n",
    "x=x+y  #store the value of x as the sum of x and y\n",
    "y=x-y #store the value of y as the difference of x w.r.t. y so that y become x \n",
    "x=x-y # here we use the basic math as x+y-(x)= y\n",
    "print (\"after swapping :\")\n",
    "print (\"x:\",x)\n",
    "print (\"y:\",y)"
   ]
  },
  {
   "cell_type": "code",
   "execution_count": null,
   "id": "5b046ca9-4016-48fd-850e-d5fc372f2a6e",
   "metadata": {},
   "outputs": [],
   "source": []
  },
  {
   "cell_type": "markdown",
   "id": "d0789af0-dd50-454a-9aa5-22c6c4c0961a",
   "metadata": {},
   "source": [
    "2. Create a program that calculates the area of a rectangle. Take the length and\n",
    "width as inputs from the user and store them in variables. Calculate and\n",
    "display the area."
   ]
  },
  {
   "cell_type": "code",
   "execution_count": 2,
   "id": "60ffa6c1-3ea6-4e86-9661-17a0b0889dff",
   "metadata": {},
   "outputs": [
    {
     "name": "stdin",
     "output_type": "stream",
     "text": [
      "Length of rectangle: 46\n",
      "width of rectangle: 16\n"
     ]
    },
    {
     "name": "stdout",
     "output_type": "stream",
     "text": [
      "Area of rectangle: 736.0 unit sq.\n"
     ]
    }
   ],
   "source": [
    "l=float(input (\"Length of rectangle:\")) #put down the length of rec.\n",
    "w=float(input (\"width of rectangle:\")) #put down the width of rec.\n",
    "Area=l*w #using the formula of area of rectangle\n",
    "print (\"Area of rectangle:\",Area, \"unit sq.\")"
   ]
  },
  {
   "cell_type": "code",
   "execution_count": null,
   "id": "51caf492-5842-4bd6-8124-2d8df8fce953",
   "metadata": {},
   "outputs": [],
   "source": []
  },
  {
   "cell_type": "markdown",
   "id": "7733238f-7b47-43c3-b55e-5062c4827842",
   "metadata": {},
   "source": [
    "3. Write a Python program that converts temperatures from Celsius to\n",
    "Fahrenheit. Take the temperature in Celsius as input, store it in a variable,\n",
    "convert it to Fahrenheit, and display the result."
   ]
  },
  {
   "cell_type": "code",
   "execution_count": 3,
   "id": "fe78e56e-5855-42a5-80a4-d29d830fd173",
   "metadata": {},
   "outputs": [
    {
     "name": "stdin",
     "output_type": "stream",
     "text": [
      "Enter the value of Temerature in Celcius: 53\n"
     ]
    },
    {
     "name": "stdout",
     "output_type": "stream",
     "text": [
      "Temperature in Fahrenheit {127.4} °F\n"
     ]
    }
   ],
   "source": [
    "cel=float(input(\"Enter the value of Temerature in Celcius:\"))\n",
    "fahr={(cel*9/5)+32} # using the formula of degree C to degree F conversion\n",
    "print (\"Temperature in Fahrenheit\",fahr,\"°F\")"
   ]
  },
  {
   "cell_type": "code",
   "execution_count": null,
   "id": "212466b6-902a-4525-af75-45382cbf2527",
   "metadata": {},
   "outputs": [],
   "source": []
  },
  {
   "cell_type": "markdown",
   "id": "fe5a37f1-0221-48d3-950b-b999b0311535",
   "metadata": {},
   "source": [
    "TOPIC: String Based Questions"
   ]
  },
  {
   "cell_type": "code",
   "execution_count": null,
   "id": "2ed81f91-6801-42f3-9268-f0a76e36a966",
   "metadata": {},
   "outputs": [],
   "source": []
  },
  {
   "cell_type": "markdown",
   "id": "cff7ca6b-cdc7-4ed0-b773-248ab9a77e1b",
   "metadata": {},
   "source": [
    "1. Write a Python program that takes a string as input and prints the length of\n",
    "the string."
   ]
  },
  {
   "cell_type": "code",
   "execution_count": 5,
   "id": "b67cd5c6-ee89-442e-b545-e0d573289ca6",
   "metadata": {},
   "outputs": [
    {
     "name": "stdin",
     "output_type": "stream",
     "text": [
      "enter the string: Aaquib\n"
     ]
    },
    {
     "name": "stdout",
     "output_type": "stream",
     "text": [
      "length of string 6\n"
     ]
    }
   ],
   "source": [
    "s1=input(\"enter the string:\")   #taking input\n",
    "print (\"length of string\",len(s1)) #counting the len.str()"
   ]
  },
  {
   "cell_type": "code",
   "execution_count": null,
   "id": "10c56ca6-81d0-442f-9654-86c59cc9036b",
   "metadata": {},
   "outputs": [],
   "source": []
  },
  {
   "cell_type": "markdown",
   "id": "7537f822-f9ca-49eb-ace5-db8cf273ae1e",
   "metadata": {},
   "source": [
    "2. Create a program that takes a sentence from the user and counts the number\n",
    "of vowels (a, e, i, o, u) in the string."
   ]
  },
  {
   "cell_type": "code",
   "execution_count": 8,
   "id": "d82f6da9-52ee-4e8a-b6d5-c494ea802a07",
   "metadata": {},
   "outputs": [
    {
     "name": "stdin",
     "output_type": "stream",
     "text": [
      "Enter a sentence : Animal\n"
     ]
    },
    {
     "name": "stdout",
     "output_type": "stream",
     "text": [
      "3\n"
     ]
    }
   ],
   "source": [
    "sentence = input(\"Enter a sentence :\")\n",
    "counts=0\n",
    "for i in sentence:    # use the conscept of loop for multiple check clycle for individual vowels\n",
    "    if i in 'aAeEiIoOuU':  # all vowels in lowwer as well as in upper case\n",
    "        counts+=1\n",
    "        \n",
    "print(counts)"
   ]
  },
  {
   "cell_type": "code",
   "execution_count": null,
   "id": "9a885758-3fc8-4868-9d30-9ba16f3e3851",
   "metadata": {},
   "outputs": [],
   "source": []
  },
  {
   "cell_type": "markdown",
   "id": "0ca2eda0-48fe-4f6c-b2b5-110f87ce1c06",
   "metadata": {},
   "source": [
    "3. Given a string, reverse the order of characters using string slicing and print\n",
    "the reversed string."
   ]
  },
  {
   "cell_type": "code",
   "execution_count": null,
   "id": "c6932231-5422-4a3d-a715-7665a6bf6141",
   "metadata": {},
   "outputs": [],
   "source": [
    "string = input()\n",
    "print(f\"reverse of string is = {string[::-1]}\")"
   ]
  },
  {
   "cell_type": "code",
   "execution_count": null,
   "id": "88a33b60-196b-4362-acd4-98e1d1143f39",
   "metadata": {},
   "outputs": [],
   "source": []
  },
  {
   "cell_type": "markdown",
   "id": "c34b2926-cafb-44a6-9bef-8c23241917ff",
   "metadata": {},
   "source": [
    "4. Write a program that takes a string as input and checks if it is a palindrome\n",
    "(reads the same forwards and backwards)."
   ]
  },
  {
   "cell_type": "code",
   "execution_count": 20,
   "id": "b6a01e6d-4283-4d3b-9b89-a7756dbf9dc0",
   "metadata": {},
   "outputs": [
    {
     "name": "stdin",
     "output_type": "stream",
     "text": [
      " madam\n"
     ]
    },
    {
     "name": "stdout",
     "output_type": "stream",
     "text": [
      "is a palindrome string\n"
     ]
    }
   ],
   "source": [
    "string = input()\n",
    "if string==string[::-1]:     #use conditioning statement as if (....) else(...)\n",
    "    print(\"is a palindrome string\") \n",
    "else:\n",
    "    print(\"is not palindrome string\")"
   ]
  },
  {
   "cell_type": "code",
   "execution_count": null,
   "id": "fc074b0d-4298-49cc-8e0a-de2785174804",
   "metadata": {},
   "outputs": [],
   "source": []
  },
  {
   "cell_type": "markdown",
   "id": "7ea7eeee-f078-45e4-bd27-302e1cb0ce36",
   "metadata": {},
   "source": [
    "5. Create a program that takes a string as input and removes all the spaces from\n",
    "it. Print the modified string without spaces."
   ]
  },
  {
   "cell_type": "code",
   "execution_count": 22,
   "id": "f2f3688b-6beb-4c7e-813c-858fee4b71ea",
   "metadata": {},
   "outputs": [
    {
     "name": "stdin",
     "output_type": "stream",
     "text": [
      "Enter any string:- Hello Yusuf\n"
     ]
    },
    {
     "name": "stdout",
     "output_type": "stream",
     "text": [
      "modified string:-  HelloYusuf\n"
     ]
    }
   ],
   "source": [
    "def space_remover(sentence):      # creating the function called space_remover\n",
    "    remove_space=sentence.replace(' ','')  # removing space from the sentence\n",
    "    return remove_space\n",
    "\n",
    "user_input=input(\"Enter any string:-\")   # taking input\n",
    "result=space_remover(user_input)         \n",
    "print(\"modified string:- \",result)       # output string"
   ]
  },
  {
   "cell_type": "code",
   "execution_count": null,
   "id": "6a1ecb3e-1e72-4ec7-8303-68cf25b6e241",
   "metadata": {},
   "outputs": [],
   "source": []
  }
 ],
 "metadata": {
  "kernelspec": {
   "display_name": "Python 3 (ipykernel)",
   "language": "python",
   "name": "python3"
  },
  "language_info": {
   "codemirror_mode": {
    "name": "ipython",
    "version": 3
   },
   "file_extension": ".py",
   "mimetype": "text/x-python",
   "name": "python",
   "nbconvert_exporter": "python",
   "pygments_lexer": "ipython3",
   "version": "3.10.8"
  }
 },
 "nbformat": 4,
 "nbformat_minor": 5
}
